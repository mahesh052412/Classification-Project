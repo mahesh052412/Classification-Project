{
 "cells": [
  {
   "cell_type": "markdown",
   "metadata": {},
   "source": [
    "### Part A"
   ]
  },
  {
   "cell_type": "code",
   "execution_count": 1,
   "metadata": {},
   "outputs": [],
   "source": [
    "#Requried packages\n",
    "\n",
    "import pandas as pd\n",
    "import numpy as np\n",
    "import seaborn as sb\n",
    "import matplotlib as plt"
   ]
  },
  {
   "cell_type": "code",
   "execution_count": 2,
   "metadata": {},
   "outputs": [
    {
     "data": {
      "text/html": [
       "<div>\n",
       "<style scoped>\n",
       "    .dataframe tbody tr th:only-of-type {\n",
       "        vertical-align: middle;\n",
       "    }\n",
       "\n",
       "    .dataframe tbody tr th {\n",
       "        vertical-align: top;\n",
       "    }\n",
       "\n",
       "    .dataframe thead th {\n",
       "        text-align: right;\n",
       "    }\n",
       "</style>\n",
       "<table border=\"1\" class=\"dataframe\">\n",
       "  <thead>\n",
       "    <tr style=\"text-align: right;\">\n",
       "      <th></th>\n",
       "      <th>F1</th>\n",
       "      <th>F2</th>\n",
       "      <th>F3</th>\n",
       "      <th>F4</th>\n",
       "      <th>F5</th>\n",
       "      <th>F6</th>\n",
       "      <th>F7</th>\n",
       "      <th>F8</th>\n",
       "      <th>F9</th>\n",
       "      <th>F10</th>\n",
       "      <th>...</th>\n",
       "      <th>F12</th>\n",
       "      <th>F13</th>\n",
       "      <th>F14</th>\n",
       "      <th>F15</th>\n",
       "      <th>F16</th>\n",
       "      <th>F17</th>\n",
       "      <th>F18</th>\n",
       "      <th>F19</th>\n",
       "      <th>F20</th>\n",
       "      <th>Class</th>\n",
       "    </tr>\n",
       "  </thead>\n",
       "  <tbody>\n",
       "    <tr>\n",
       "      <th>0</th>\n",
       "      <td>-4.14</td>\n",
       "      <td>0</td>\n",
       "      <td>-4.8688</td>\n",
       "      <td>2193.600</td>\n",
       "      <td>1</td>\n",
       "      <td>1.32390</td>\n",
       "      <td>3.0866</td>\n",
       "      <td>-4.3687</td>\n",
       "      <td>8269.76</td>\n",
       "      <td>-11.48700</td>\n",
       "      <td>...</td>\n",
       "      <td>44.386</td>\n",
       "      <td>10.9180</td>\n",
       "      <td>-4.56860</td>\n",
       "      <td>-3336.16</td>\n",
       "      <td>-96949.200</td>\n",
       "      <td>-22.59600</td>\n",
       "      <td>8318.43</td>\n",
       "      <td>-167.29</td>\n",
       "      <td>-12.61</td>\n",
       "      <td>False</td>\n",
       "    </tr>\n",
       "    <tr>\n",
       "      <th>1</th>\n",
       "      <td>-4.14</td>\n",
       "      <td>1</td>\n",
       "      <td>-7.1000</td>\n",
       "      <td>2048.535</td>\n",
       "      <td>1</td>\n",
       "      <td>1.07749</td>\n",
       "      <td>3.3369</td>\n",
       "      <td>-5.3940</td>\n",
       "      <td>8510.14</td>\n",
       "      <td>-12.95850</td>\n",
       "      <td>...</td>\n",
       "      <td>70.120</td>\n",
       "      <td>9.1844</td>\n",
       "      <td>-5.66460</td>\n",
       "      <td>-3976.80</td>\n",
       "      <td>-96643.400</td>\n",
       "      <td>-16.64400</td>\n",
       "      <td>10232.13</td>\n",
       "      <td>1904.61</td>\n",
       "      <td>-13.47</td>\n",
       "      <td>True</td>\n",
       "    </tr>\n",
       "    <tr>\n",
       "      <th>2</th>\n",
       "      <td>-1.14</td>\n",
       "      <td>0</td>\n",
       "      <td>-4.5126</td>\n",
       "      <td>2124.270</td>\n",
       "      <td>0</td>\n",
       "      <td>2.27400</td>\n",
       "      <td>3.7040</td>\n",
       "      <td>-6.5010</td>\n",
       "      <td>8590.68</td>\n",
       "      <td>-14.95800</td>\n",
       "      <td>...</td>\n",
       "      <td>40.332</td>\n",
       "      <td>9.0464</td>\n",
       "      <td>-4.43472</td>\n",
       "      <td>-3658.36</td>\n",
       "      <td>-96928.334</td>\n",
       "      <td>-15.98100</td>\n",
       "      <td>9488.88</td>\n",
       "      <td>56.45</td>\n",
       "      <td>-13.61</td>\n",
       "      <td>False</td>\n",
       "    </tr>\n",
       "    <tr>\n",
       "      <th>3</th>\n",
       "      <td>-1.14</td>\n",
       "      <td>1</td>\n",
       "      <td>-3.8394</td>\n",
       "      <td>2115.450</td>\n",
       "      <td>1</td>\n",
       "      <td>1.78430</td>\n",
       "      <td>3.1030</td>\n",
       "      <td>-4.0891</td>\n",
       "      <td>8023.44</td>\n",
       "      <td>-11.52660</td>\n",
       "      <td>...</td>\n",
       "      <td>95.740</td>\n",
       "      <td>7.5216</td>\n",
       "      <td>-4.43918</td>\n",
       "      <td>-4100.04</td>\n",
       "      <td>-96919.307</td>\n",
       "      <td>-14.86500</td>\n",
       "      <td>10680.63</td>\n",
       "      <td>316.91</td>\n",
       "      <td>-13.31</td>\n",
       "      <td>True</td>\n",
       "    </tr>\n",
       "    <tr>\n",
       "      <th>4</th>\n",
       "      <td>-1.14</td>\n",
       "      <td>0</td>\n",
       "      <td>-3.5670</td>\n",
       "      <td>2430.210</td>\n",
       "      <td>1</td>\n",
       "      <td>1.73450</td>\n",
       "      <td>3.2569</td>\n",
       "      <td>-4.3694</td>\n",
       "      <td>4814.64</td>\n",
       "      <td>-10.67961</td>\n",
       "      <td>...</td>\n",
       "      <td>46.376</td>\n",
       "      <td>10.1860</td>\n",
       "      <td>-6.34600</td>\n",
       "      <td>-3892.74</td>\n",
       "      <td>-96862.720</td>\n",
       "      <td>-10.84545</td>\n",
       "      <td>10308.33</td>\n",
       "      <td>203.60</td>\n",
       "      <td>NaN</td>\n",
       "      <td>True</td>\n",
       "    </tr>\n",
       "  </tbody>\n",
       "</table>\n",
       "<p>5 rows × 21 columns</p>\n",
       "</div>"
      ],
      "text/plain": [
       "     F1  F2      F3        F4  F5       F6      F7      F8       F9       F10  \\\n",
       "0 -4.14   0 -4.8688  2193.600   1  1.32390  3.0866 -4.3687  8269.76 -11.48700   \n",
       "1 -4.14   1 -7.1000  2048.535   1  1.07749  3.3369 -5.3940  8510.14 -12.95850   \n",
       "2 -1.14   0 -4.5126  2124.270   0  2.27400  3.7040 -6.5010  8590.68 -14.95800   \n",
       "3 -1.14   1 -3.8394  2115.450   1  1.78430  3.1030 -4.0891  8023.44 -11.52660   \n",
       "4 -1.14   0 -3.5670  2430.210   1  1.73450  3.2569 -4.3694  4814.64 -10.67961   \n",
       "\n",
       "   ...     F12      F13      F14      F15        F16       F17       F18  \\\n",
       "0  ...  44.386  10.9180 -4.56860 -3336.16 -96949.200 -22.59600   8318.43   \n",
       "1  ...  70.120   9.1844 -5.66460 -3976.80 -96643.400 -16.64400  10232.13   \n",
       "2  ...  40.332   9.0464 -4.43472 -3658.36 -96928.334 -15.98100   9488.88   \n",
       "3  ...  95.740   7.5216 -4.43918 -4100.04 -96919.307 -14.86500  10680.63   \n",
       "4  ...  46.376  10.1860 -6.34600 -3892.74 -96862.720 -10.84545  10308.33   \n",
       "\n",
       "       F19    F20  Class  \n",
       "0  -167.29 -12.61  False  \n",
       "1  1904.61 -13.47   True  \n",
       "2    56.45 -13.61  False  \n",
       "3   316.91 -13.31   True  \n",
       "4   203.60    NaN   True  \n",
       "\n",
       "[5 rows x 21 columns]"
      ]
     },
     "execution_count": 2,
     "metadata": {},
     "output_type": "execute_result"
    }
   ],
   "source": [
    "#load dataset\n",
    "pat_data = pd.read_csv(\"CE802_P2_Data.csv\")\n",
    "pat_data.head()"
   ]
  },
  {
   "cell_type": "markdown",
   "metadata": {},
   "source": [
    "## Cleaning the dataset"
   ]
  },
  {
   "cell_type": "code",
   "execution_count": 3,
   "metadata": {},
   "outputs": [
    {
     "data": {
      "text/plain": [
       "Index(['F20'], dtype='object')"
      ]
     },
     "execution_count": 3,
     "metadata": {},
     "output_type": "execute_result"
    }
   ],
   "source": [
    "#check missing values in dataset\n",
    "pat_data.columns[pat_data.isna().any()]"
   ]
  },
  {
   "cell_type": "code",
   "execution_count": 4,
   "metadata": {},
   "outputs": [
    {
     "data": {
      "text/html": [
       "<div>\n",
       "<style scoped>\n",
       "    .dataframe tbody tr th:only-of-type {\n",
       "        vertical-align: middle;\n",
       "    }\n",
       "\n",
       "    .dataframe tbody tr th {\n",
       "        vertical-align: top;\n",
       "    }\n",
       "\n",
       "    .dataframe thead th {\n",
       "        text-align: right;\n",
       "    }\n",
       "</style>\n",
       "<table border=\"1\" class=\"dataframe\">\n",
       "  <thead>\n",
       "    <tr style=\"text-align: right;\">\n",
       "      <th></th>\n",
       "      <th>F1</th>\n",
       "      <th>F2</th>\n",
       "      <th>F3</th>\n",
       "      <th>F4</th>\n",
       "      <th>F5</th>\n",
       "      <th>F6</th>\n",
       "      <th>F7</th>\n",
       "      <th>F8</th>\n",
       "      <th>F9</th>\n",
       "      <th>F10</th>\n",
       "      <th>F11</th>\n",
       "      <th>F12</th>\n",
       "      <th>F13</th>\n",
       "      <th>F14</th>\n",
       "      <th>F15</th>\n",
       "      <th>F16</th>\n",
       "      <th>F17</th>\n",
       "      <th>F18</th>\n",
       "      <th>F19</th>\n",
       "      <th>F20</th>\n",
       "    </tr>\n",
       "  </thead>\n",
       "  <tbody>\n",
       "    <tr>\n",
       "      <th>count</th>\n",
       "      <td>1000.000000</td>\n",
       "      <td>1000.000000</td>\n",
       "      <td>1000.000000</td>\n",
       "      <td>1000.000000</td>\n",
       "      <td>1000.000000</td>\n",
       "      <td>1000.000000</td>\n",
       "      <td>1000.000000</td>\n",
       "      <td>1000.000000</td>\n",
       "      <td>1000.000000</td>\n",
       "      <td>1000.000000</td>\n",
       "      <td>1000.000000</td>\n",
       "      <td>1000.000000</td>\n",
       "      <td>1000.000000</td>\n",
       "      <td>1000.000000</td>\n",
       "      <td>1000.000000</td>\n",
       "      <td>1000.000000</td>\n",
       "      <td>1000.000000</td>\n",
       "      <td>1000.000000</td>\n",
       "      <td>1000.000000</td>\n",
       "      <td>500.000000</td>\n",
       "    </tr>\n",
       "    <tr>\n",
       "      <th>mean</th>\n",
       "      <td>-2.661000</td>\n",
       "      <td>0.508000</td>\n",
       "      <td>-5.221917</td>\n",
       "      <td>2283.409178</td>\n",
       "      <td>0.516000</td>\n",
       "      <td>1.988608</td>\n",
       "      <td>3.483968</td>\n",
       "      <td>-4.624358</td>\n",
       "      <td>7819.911734</td>\n",
       "      <td>-13.493618</td>\n",
       "      <td>-5625.806305</td>\n",
       "      <td>55.724599</td>\n",
       "      <td>9.001210</td>\n",
       "      <td>-6.140027</td>\n",
       "      <td>-3324.967898</td>\n",
       "      <td>-97016.681422</td>\n",
       "      <td>-13.665798</td>\n",
       "      <td>9760.996246</td>\n",
       "      <td>337.651510</td>\n",
       "      <td>-12.870100</td>\n",
       "    </tr>\n",
       "    <tr>\n",
       "      <th>std</th>\n",
       "      <td>1.500603</td>\n",
       "      <td>0.500186</td>\n",
       "      <td>1.805553</td>\n",
       "      <td>739.616151</td>\n",
       "      <td>0.499994</td>\n",
       "      <td>0.901204</td>\n",
       "      <td>0.765717</td>\n",
       "      <td>0.869678</td>\n",
       "      <td>2074.355688</td>\n",
       "      <td>2.708288</td>\n",
       "      <td>529.018105</td>\n",
       "      <td>20.571395</td>\n",
       "      <td>1.213201</td>\n",
       "      <td>1.706913</td>\n",
       "      <td>1494.941683</td>\n",
       "      <td>3376.459608</td>\n",
       "      <td>2.699756</td>\n",
       "      <td>1534.747192</td>\n",
       "      <td>702.890861</td>\n",
       "      <td>1.155836</td>\n",
       "    </tr>\n",
       "    <tr>\n",
       "      <th>min</th>\n",
       "      <td>-4.140000</td>\n",
       "      <td>0.000000</td>\n",
       "      <td>-12.216000</td>\n",
       "      <td>-2639.190000</td>\n",
       "      <td>0.000000</td>\n",
       "      <td>1.052990</td>\n",
       "      <td>2.960002</td>\n",
       "      <td>-8.215000</td>\n",
       "      <td>-7725.360000</td>\n",
       "      <td>-24.096000</td>\n",
       "      <td>-11190.630000</td>\n",
       "      <td>35.424656</td>\n",
       "      <td>7.480112</td>\n",
       "      <td>-13.246000</td>\n",
       "      <td>-11409.360000</td>\n",
       "      <td>-202457.800000</td>\n",
       "      <td>-23.946000</td>\n",
       "      <td>-2011.470000</td>\n",
       "      <td>-3392.390000</td>\n",
       "      <td>-16.250000</td>\n",
       "    </tr>\n",
       "    <tr>\n",
       "      <th>25%</th>\n",
       "      <td>-4.140000</td>\n",
       "      <td>0.000000</td>\n",
       "      <td>-6.047000</td>\n",
       "      <td>2022.686250</td>\n",
       "      <td>0.000000</td>\n",
       "      <td>1.311825</td>\n",
       "      <td>3.008987</td>\n",
       "      <td>-5.009500</td>\n",
       "      <td>7592.890000</td>\n",
       "      <td>-14.682750</td>\n",
       "      <td>-5661.630000</td>\n",
       "      <td>41.804000</td>\n",
       "      <td>8.033600</td>\n",
       "      <td>-6.870000</td>\n",
       "      <td>-3955.666500</td>\n",
       "      <td>-96958.020000</td>\n",
       "      <td>-15.114750</td>\n",
       "      <td>9358.830000</td>\n",
       "      <td>56.532500</td>\n",
       "      <td>-13.645000</td>\n",
       "    </tr>\n",
       "    <tr>\n",
       "      <th>50%</th>\n",
       "      <td>-4.140000</td>\n",
       "      <td>1.000000</td>\n",
       "      <td>-4.664500</td>\n",
       "      <td>2121.900000</td>\n",
       "      <td>1.000000</td>\n",
       "      <td>1.707250</td>\n",
       "      <td>3.178400</td>\n",
       "      <td>-4.369050</td>\n",
       "      <td>8233.040000</td>\n",
       "      <td>-12.641100</td>\n",
       "      <td>-5506.475000</td>\n",
       "      <td>49.584000</td>\n",
       "      <td>8.724700</td>\n",
       "      <td>-5.597500</td>\n",
       "      <td>-3702.260000</td>\n",
       "      <td>-96919.362000</td>\n",
       "      <td>-12.794400</td>\n",
       "      <td>9793.864500</td>\n",
       "      <td>199.300000</td>\n",
       "      <td>-12.850000</td>\n",
       "    </tr>\n",
       "    <tr>\n",
       "      <th>75%</th>\n",
       "      <td>-1.140000</td>\n",
       "      <td>1.000000</td>\n",
       "      <td>-3.834900</td>\n",
       "      <td>2323.822500</td>\n",
       "      <td>1.000000</td>\n",
       "      <td>2.357000</td>\n",
       "      <td>3.673675</td>\n",
       "      <td>-3.973325</td>\n",
       "      <td>8620.200000</td>\n",
       "      <td>-11.479425</td>\n",
       "      <td>-5420.780000</td>\n",
       "      <td>61.325000</td>\n",
       "      <td>9.671500</td>\n",
       "      <td>-4.878000</td>\n",
       "      <td>-3163.260000</td>\n",
       "      <td>-96881.730000</td>\n",
       "      <td>-11.560725</td>\n",
       "      <td>10167.630000</td>\n",
       "      <td>430.985000</td>\n",
       "      <td>-12.070000</td>\n",
       "    </tr>\n",
       "    <tr>\n",
       "      <th>max</th>\n",
       "      <td>-1.140000</td>\n",
       "      <td>1.000000</td>\n",
       "      <td>-3.244240</td>\n",
       "      <td>7053.810000</td>\n",
       "      <td>1.000000</td>\n",
       "      <td>5.605000</td>\n",
       "      <td>9.039000</td>\n",
       "      <td>-3.702220</td>\n",
       "      <td>16934.640000</td>\n",
       "      <td>-10.626600</td>\n",
       "      <td>-2478.630000</td>\n",
       "      <td>198.980000</td>\n",
       "      <td>15.068000</td>\n",
       "      <td>-4.342580</td>\n",
       "      <td>6636.640000</td>\n",
       "      <td>-89483.800000</td>\n",
       "      <td>-10.744140</td>\n",
       "      <td>20200.530000</td>\n",
       "      <td>5152.610000</td>\n",
       "      <td>-9.510000</td>\n",
       "    </tr>\n",
       "  </tbody>\n",
       "</table>\n",
       "</div>"
      ],
      "text/plain": [
       "                F1           F2           F3           F4           F5  \\\n",
       "count  1000.000000  1000.000000  1000.000000  1000.000000  1000.000000   \n",
       "mean     -2.661000     0.508000    -5.221917  2283.409178     0.516000   \n",
       "std       1.500603     0.500186     1.805553   739.616151     0.499994   \n",
       "min      -4.140000     0.000000   -12.216000 -2639.190000     0.000000   \n",
       "25%      -4.140000     0.000000    -6.047000  2022.686250     0.000000   \n",
       "50%      -4.140000     1.000000    -4.664500  2121.900000     1.000000   \n",
       "75%      -1.140000     1.000000    -3.834900  2323.822500     1.000000   \n",
       "max      -1.140000     1.000000    -3.244240  7053.810000     1.000000   \n",
       "\n",
       "                F6           F7           F8            F9          F10  \\\n",
       "count  1000.000000  1000.000000  1000.000000   1000.000000  1000.000000   \n",
       "mean      1.988608     3.483968    -4.624358   7819.911734   -13.493618   \n",
       "std       0.901204     0.765717     0.869678   2074.355688     2.708288   \n",
       "min       1.052990     2.960002    -8.215000  -7725.360000   -24.096000   \n",
       "25%       1.311825     3.008987    -5.009500   7592.890000   -14.682750   \n",
       "50%       1.707250     3.178400    -4.369050   8233.040000   -12.641100   \n",
       "75%       2.357000     3.673675    -3.973325   8620.200000   -11.479425   \n",
       "max       5.605000     9.039000    -3.702220  16934.640000   -10.626600   \n",
       "\n",
       "                F11          F12          F13          F14           F15  \\\n",
       "count   1000.000000  1000.000000  1000.000000  1000.000000   1000.000000   \n",
       "mean   -5625.806305    55.724599     9.001210    -6.140027  -3324.967898   \n",
       "std      529.018105    20.571395     1.213201     1.706913   1494.941683   \n",
       "min   -11190.630000    35.424656     7.480112   -13.246000 -11409.360000   \n",
       "25%    -5661.630000    41.804000     8.033600    -6.870000  -3955.666500   \n",
       "50%    -5506.475000    49.584000     8.724700    -5.597500  -3702.260000   \n",
       "75%    -5420.780000    61.325000     9.671500    -4.878000  -3163.260000   \n",
       "max    -2478.630000   198.980000    15.068000    -4.342580   6636.640000   \n",
       "\n",
       "                 F16          F17           F18          F19         F20  \n",
       "count    1000.000000  1000.000000   1000.000000  1000.000000  500.000000  \n",
       "mean   -97016.681422   -13.665798   9760.996246   337.651510  -12.870100  \n",
       "std      3376.459608     2.699756   1534.747192   702.890861    1.155836  \n",
       "min   -202457.800000   -23.946000  -2011.470000 -3392.390000  -16.250000  \n",
       "25%    -96958.020000   -15.114750   9358.830000    56.532500  -13.645000  \n",
       "50%    -96919.362000   -12.794400   9793.864500   199.300000  -12.850000  \n",
       "75%    -96881.730000   -11.560725  10167.630000   430.985000  -12.070000  \n",
       "max    -89483.800000   -10.744140  20200.530000  5152.610000   -9.510000  "
      ]
     },
     "execution_count": 4,
     "metadata": {},
     "output_type": "execute_result"
    }
   ],
   "source": [
    "#statistical summary for columns\n",
    "pat_data.describe()"
   ]
  },
  {
   "cell_type": "markdown",
   "metadata": {},
   "source": [
    "since the difference b/w **mean** and **median** for **F20** column is very low, we will be replacing the mean value for **NaN**."
   ]
  },
  {
   "cell_type": "code",
   "execution_count": 5,
   "metadata": {},
   "outputs": [],
   "source": [
    "# Replacing the missing values with mean for Nan in F20 column\n",
    "\n",
    "pat_data['F20'] = pat_data['F20'].fillna(pat_data['F20'].mean())"
   ]
  },
  {
   "cell_type": "code",
   "execution_count": 6,
   "metadata": {},
   "outputs": [],
   "source": [
    "#split dataset\n",
    "\n",
    "p = pat_data.iloc[:, :-1].values   #Predictors\n",
    "r = pat_data.iloc[:, -1].values    #Target"
   ]
  },
  {
   "cell_type": "code",
   "execution_count": 7,
   "metadata": {},
   "outputs": [],
   "source": [
    "#Convert target varibale from string to numeric\n",
    "\n",
    "#import package\n",
    "from sklearn.preprocessing import LabelEncoder\n",
    "\n",
    "encoder = LabelEncoder()\n",
    "\n",
    "r = encoder.fit_transform(r)"
   ]
  },
  {
   "cell_type": "markdown",
   "metadata": {},
   "source": [
    "## Standardise the variables in dataset"
   ]
  },
  {
   "cell_type": "code",
   "execution_count": 8,
   "metadata": {},
   "outputs": [],
   "source": [
    "# import library\n",
    "from sklearn.preprocessing import StandardScaler\n",
    "\n",
    "scaler = StandardScaler()\n",
    "\n",
    "p = scaler.fit_transform(p)\n",
    "\n",
    "#spliting the dataset into training and testing\n",
    "\n",
    "#import library\n",
    "from sklearn.model_selection import StratifiedKFold\n",
    "\n",
    "#Assign parameters\n",
    "sf_fold = StratifiedKFold(n_splits=7, shuffle=True, random_state=21)\n",
    "\n",
    "for training_index, testing_index in sf_fold.split(p,r):\n",
    "    p_training, p_testing = p[training_index], p[testing_index]\n",
    "    r_training, r_testing = r[training_index], r[testing_index]"
   ]
  },
  {
   "cell_type": "markdown",
   "metadata": {},
   "source": [
    "## 1. Decision Tree Classifier"
   ]
  },
  {
   "cell_type": "markdown",
   "metadata": {},
   "source": [
    "**Training and Predicting for the Dataset**"
   ]
  },
  {
   "cell_type": "code",
   "execution_count": 9,
   "metadata": {},
   "outputs": [],
   "source": [
    "#import decision tree classifier\n",
    "from sklearn.tree import DecisionTreeClassifier\n",
    "\n",
    "decision_tc = DecisionTreeClassifier(random_state=456)\n",
    "\n",
    "#fit model to dataset for training\n",
    "decision_tc.fit(p_training, r_training)\n",
    "\n",
    "#Result for testing dataset\n",
    "r_result = decision_tc.predict(p_testing)"
   ]
  },
  {
   "cell_type": "markdown",
   "metadata": {},
   "source": [
    "**Running the model on test Dataset**"
   ]
  },
  {
   "cell_type": "code",
   "execution_count": 10,
   "metadata": {},
   "outputs": [
    {
     "name": "stdout",
     "output_type": "stream",
     "text": [
      "Accuracy Score of Decision Tree model: 0.852112676056338\n",
      "Confusion Matrix of Decision Tree model:\n",
      " [[63  8]\n",
      " [13 58]]\n",
      "Classification Report of Decision Tree model:\n",
      "               precision    recall  f1-score   support\n",
      "\n",
      "           0       0.83      0.89      0.86        71\n",
      "           1       0.88      0.82      0.85        71\n",
      "\n",
      "    accuracy                           0.85       142\n",
      "   macro avg       0.85      0.85      0.85       142\n",
      "weighted avg       0.85      0.85      0.85       142\n",
      "\n"
     ]
    }
   ],
   "source": [
    "#import library\n",
    "from sklearn.metrics import accuracy_score, confusion_matrix, classification_report\n",
    "\n",
    "#Result of test dataset\n",
    "print(f\"Accuracy Score of Decision Tree model: {accuracy_score(r_testing, r_result)}\")\n",
    "print(f\"Confusion Matrix of Decision Tree model:\\n {confusion_matrix(r_testing, r_result)}\")\n",
    "print(f\"Classification Report of Decision Tree model:\\n {classification_report(r_testing, r_result)}\")"
   ]
  },
  {
   "cell_type": "markdown",
   "metadata": {},
   "source": [
    "## 2. Logistic Regression"
   ]
  },
  {
   "cell_type": "markdown",
   "metadata": {},
   "source": [
    "**Training and predicting the dataset for Logistic Regression**"
   ]
  },
  {
   "cell_type": "code",
   "execution_count": 11,
   "metadata": {},
   "outputs": [],
   "source": [
    "#Import logistic regression classifier\n",
    "from sklearn.linear_model import LogisticRegression\n",
    "\n",
    "logistic_rc = LogisticRegression(random_state=689)\n",
    "\n",
    "#fit model to dataset for training\n",
    "logistic_rc.fit(p_training, r_training)\n",
    "\n",
    "#Result for testing dataset\n",
    "r_log_result = logistic_rc.predict(p_testing)"
   ]
  },
  {
   "cell_type": "markdown",
   "metadata": {},
   "source": [
    "**Running the model on test Data**"
   ]
  },
  {
   "cell_type": "code",
   "execution_count": 12,
   "metadata": {},
   "outputs": [
    {
     "name": "stdout",
     "output_type": "stream",
     "text": [
      "Accuracy Score of Logistic Regression model: 0.7183098591549296\n",
      "Confusion Matrix of Logistic Regression model:\n",
      " [[56 15]\n",
      " [25 46]]\n",
      "Classification Report of Logistic Regression model:\n",
      "               precision    recall  f1-score   support\n",
      "\n",
      "           0       0.69      0.79      0.74        71\n",
      "           1       0.75      0.65      0.70        71\n",
      "\n",
      "    accuracy                           0.72       142\n",
      "   macro avg       0.72      0.72      0.72       142\n",
      "weighted avg       0.72      0.72      0.72       142\n",
      "\n"
     ]
    }
   ],
   "source": [
    "#Result of test dataset from logistic regression\n",
    "print(f\"Accuracy Score of Logistic Regression model: {accuracy_score(r_testing, r_log_result)}\")\n",
    "print(f\"Confusion Matrix of Logistic Regression model:\\n {confusion_matrix(r_testing, r_log_result)}\")\n",
    "print(f\"Classification Report of Logistic Regression model:\\n {classification_report(r_testing, r_log_result)}\")"
   ]
  },
  {
   "cell_type": "markdown",
   "metadata": {},
   "source": [
    "## 3.  Random Forest Classification"
   ]
  },
  {
   "cell_type": "markdown",
   "metadata": {},
   "source": [
    "**Training and predicting the dataset for  Random Forest Classification**"
   ]
  },
  {
   "cell_type": "code",
   "execution_count": 17,
   "metadata": {},
   "outputs": [],
   "source": [
    "#Import library\n",
    "from sklearn.ensemble import RandomForestClassifier\n",
    "import warnings\n",
    "\n",
    "warnings.filterwarnings('ignore')\n",
    "\n",
    "random_fr = RandomForestClassifier(random_state=669)\n",
    "\n",
    "#fit model to dataset for training\n",
    "random_fr.fit(p_training, r_training)\n",
    "\n",
    "#Result for testing dataset\n",
    "r_nbys_result = random_fr.predict(p_testing)"
   ]
  },
  {
   "cell_type": "markdown",
   "metadata": {},
   "source": [
    "**Running the model on test Data**"
   ]
  },
  {
   "cell_type": "code",
   "execution_count": 18,
   "metadata": {},
   "outputs": [
    {
     "name": "stdout",
     "output_type": "stream",
     "text": [
      "Accuracy Score of Random Forest Regression model: 0.9014084507042254\n",
      "Confusion Matrix of Random Forest Regression model:\n",
      " [[64  7]\n",
      " [ 7 64]]\n",
      "Classification Report of Random Forest Regression model:\n",
      "               precision    recall  f1-score   support\n",
      "\n",
      "           0       0.90      0.90      0.90        71\n",
      "           1       0.90      0.90      0.90        71\n",
      "\n",
      "    accuracy                           0.90       142\n",
      "   macro avg       0.90      0.90      0.90       142\n",
      "weighted avg       0.90      0.90      0.90       142\n",
      "\n"
     ]
    }
   ],
   "source": [
    "#Result of test dataset from RFR\n",
    "print(f\"Accuracy Score of Random Forest Regression model: {accuracy_score(r_testing, r_nbys_result)}\")\n",
    "print(f\"Confusion Matrix of Random Forest Regression model:\\n {confusion_matrix(r_testing, r_nbys_result)}\")\n",
    "print(f\"Classification Report of Random Forest Regression model:\\n {classification_report(r_testing, r_nbys_result)}\")"
   ]
  },
  {
   "cell_type": "markdown",
   "metadata": {},
   "source": [
    "## 4. K-Nearest Neighbors (KNN)"
   ]
  },
  {
   "cell_type": "markdown",
   "metadata": {},
   "source": [
    "**Training and predicting the dataset for KNN**"
   ]
  },
  {
   "cell_type": "code",
   "execution_count": 15,
   "metadata": {},
   "outputs": [],
   "source": [
    "#Import library\n",
    "from sklearn.neighbors import KNeighborsClassifier\n",
    "\n",
    "knn_r = KNeighborsClassifier(algorithm='auto', leaf_size=80, metric='minkowski', \n",
    "                             metric_params=None, n_jobs=None,\n",
    "                             n_neighbors=80, p=2, weights='uniform')\n",
    "\n",
    "#fit model to dataset for training\n",
    "knn_r.fit(p_training, r_training)\n",
    "\n",
    "#Result for testing dataset\n",
    "r_knn_result = knn_r.predict(p_testing)"
   ]
  },
  {
   "cell_type": "markdown",
   "metadata": {},
   "source": [
    "**Running the model on test Data**"
   ]
  },
  {
   "cell_type": "code",
   "execution_count": 16,
   "metadata": {},
   "outputs": [
    {
     "name": "stdout",
     "output_type": "stream",
     "text": [
      "Accuracy Score of K-Nearest Neighbors model: 0.7112676056338029\n",
      "Confusion Matrix of K-Nearest Neighbors model:\n",
      " [[55 16]\n",
      " [25 46]]\n",
      "Classification Report of K-Nearest Neighbors model:\n",
      "               precision    recall  f1-score   support\n",
      "\n",
      "           0       0.69      0.77      0.73        71\n",
      "           1       0.74      0.65      0.69        71\n",
      "\n",
      "    accuracy                           0.71       142\n",
      "   macro avg       0.71      0.71      0.71       142\n",
      "weighted avg       0.71      0.71      0.71       142\n",
      "\n"
     ]
    }
   ],
   "source": [
    "#Result of test dataset from KNN\n",
    "print(f\"Accuracy Score of K-Nearest Neighbors model: {accuracy_score(r_testing, r_knn_result)}\")\n",
    "print(f\"Confusion Matrix of K-Nearest Neighbors model:\\n {confusion_matrix(r_testing, r_knn_result)}\")\n",
    "print(f\"Classification Report of K-Nearest Neighbors model:\\n {classification_report(r_testing, r_knn_result)}\")"
   ]
  },
  {
   "cell_type": "markdown",
   "metadata": {},
   "source": [
    "### Part B"
   ]
  },
  {
   "cell_type": "code",
   "execution_count": 17,
   "metadata": {},
   "outputs": [
    {
     "name": "stderr",
     "output_type": "stream",
     "text": [
      "C:\\Users\\HP\\anaconda3\\lib\\site-packages\\sklearn\\base.py:413: UserWarning: X has feature names, but StandardScaler was fitted without feature names\n",
      "  warnings.warn(\n",
      "C:\\Users\\HP\\AppData\\Local\\Temp\\ipykernel_10980\\3963882432.py:19: DeprecationWarning: In a future version, `df.iloc[:, i] = newvals` will attempt to set the values inplace instead of always setting a new array. To retain the old behavior, use either `df[df.columns[i]] = newvals` or, if columns are non-unique, `df.isetitem(i, newvals)`\n",
      "  test_df.iloc[:,-1] = predicted\n"
     ]
    }
   ],
   "source": [
    "# HERE YOU WILL USE THIS TEMPLATE TO SAVE THE PREDICTIONS ON THE TEST SET\n",
    "\n",
    "# Load the test data\n",
    "test_df = pd.read_csv('CE802_P2_Test.csv')\n",
    "\n",
    "# Make sure you work on a copy\n",
    "test_data = test_df.iloc[:,:-1].copy()\n",
    "\n",
    "#Replacing the NA value\n",
    "test_data['F20'] = test_data['F20'].fillna(test_data['F20'].mean())\n",
    "\n",
    "#scale the values\n",
    "test_data = scaler.transform(test_data)\n",
    "\n",
    "\n",
    "predicted = decision_tc.predict(test_data)\n",
    "\n",
    "# Replace the last (empty) column with your prediction\n",
    "test_df.iloc[:,-1] = predicted\n",
    "\n",
    "# Save to the destination file\n",
    "test_df.to_csv('CE802_P2_Test_Predictions.csv', index=False, float_format='%.8g')\n",
    "\n",
    "# IMPORTANT!! Make sure only the last column has changed\n",
    "assert pd.read_csv('CE802_P2_Test.csv').iloc[:,:-1].equals(pd.read_csv('CE802_P2_Test_Predictions.csv').iloc[:,:-1])"
   ]
  },
  {
   "cell_type": "code",
   "execution_count": null,
   "metadata": {},
   "outputs": [],
   "source": []
  }
 ],
 "metadata": {
  "kernelspec": {
   "display_name": "Python 3 (ipykernel)",
   "language": "python",
   "name": "python3"
  },
  "language_info": {
   "codemirror_mode": {
    "name": "ipython",
    "version": 3
   },
   "file_extension": ".py",
   "mimetype": "text/x-python",
   "name": "python",
   "nbconvert_exporter": "python",
   "pygments_lexer": "ipython3",
   "version": "3.10.9"
  }
 },
 "nbformat": 4,
 "nbformat_minor": 4
}
